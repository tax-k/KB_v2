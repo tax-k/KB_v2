{
 "cells": [
  {
   "cell_type": "code",
   "execution_count": 2,
   "metadata": {},
   "outputs": [],
   "source": [
    "import pickle\n",
    "import pandas as pd\n",
    "import numpy as np\n",
    "import os"
   ]
  },
  {
   "cell_type": "code",
   "execution_count": 8,
   "metadata": {},
   "outputs": [],
   "source": [
    "curr_path = os.getcwd()\n",
    "sub_path = curr_path +\"/Dataset/Trade/\"\n",
    "code_path = curr_path + \"/Dataset/Code/\""
   ]
  },
  {
   "cell_type": "markdown",
   "metadata": {},
   "source": [
    "### load trade_data & loc_code"
   ]
  },
  {
   "cell_type": "code",
   "execution_count": 9,
   "metadata": {},
   "outputs": [],
   "source": [
    "with open(sub_path+'trade_data_201901.txt', 'rb') as f:\n",
    "    deal_df = pickle.load(f)"
   ]
  },
  {
   "cell_type": "code",
   "execution_count": 10,
   "metadata": {},
   "outputs": [],
   "source": [
    "with open(code_path+'loc_code.txt', 'rb') as f:\n",
    "    loc_df = pickle.load(f)"
   ]
  },
  {
   "cell_type": "code",
   "execution_count": 27,
   "metadata": {},
   "outputs": [
    {
     "data": {
      "text/html": [
       "<div>\n",
       "<style scoped>\n",
       "    .dataframe tbody tr th:only-of-type {\n",
       "        vertical-align: middle;\n",
       "    }\n",
       "\n",
       "    .dataframe tbody tr th {\n",
       "        vertical-align: top;\n",
       "    }\n",
       "\n",
       "    .dataframe thead th {\n",
       "        text-align: right;\n",
       "    }\n",
       "</style>\n",
       "<table border=\"1\" class=\"dataframe\">\n",
       "  <thead>\n",
       "    <tr style=\"text-align: right;\">\n",
       "      <th></th>\n",
       "      <th>deal_price</th>\n",
       "      <th>build_y</th>\n",
       "      <th>deal_y</th>\n",
       "      <th>loc_name</th>\n",
       "      <th>apt_name</th>\n",
       "      <th>deal_m</th>\n",
       "      <th>deal_d</th>\n",
       "      <th>sup_area</th>\n",
       "      <th>ji_bun</th>\n",
       "      <th>loc_code</th>\n",
       "      <th>curr_floor</th>\n",
       "    </tr>\n",
       "  </thead>\n",
       "  <tbody>\n",
       "    <tr>\n",
       "      <th>0</th>\n",
       "      <td>29,500</td>\n",
       "      <td>1983</td>\n",
       "      <td>2006</td>\n",
       "      <td>당주동</td>\n",
       "      <td>세종</td>\n",
       "      <td>1</td>\n",
       "      <td>11~20</td>\n",
       "      <td>93.4</td>\n",
       "      <td>100</td>\n",
       "      <td>11110</td>\n",
       "      <td>6</td>\n",
       "    </tr>\n",
       "    <tr>\n",
       "      <th>1</th>\n",
       "      <td>15,741</td>\n",
       "      <td>1998</td>\n",
       "      <td>2006</td>\n",
       "      <td>익선동</td>\n",
       "      <td>운현신화타워</td>\n",
       "      <td>1</td>\n",
       "      <td>1~10</td>\n",
       "      <td>57.18</td>\n",
       "      <td>30-6</td>\n",
       "      <td>11110</td>\n",
       "      <td>12</td>\n",
       "    </tr>\n",
       "    <tr>\n",
       "      <th>2</th>\n",
       "      <td>23,198</td>\n",
       "      <td>1998</td>\n",
       "      <td>2006</td>\n",
       "      <td>익선동</td>\n",
       "      <td>운현신화타워</td>\n",
       "      <td>1</td>\n",
       "      <td>1~10</td>\n",
       "      <td>84.26</td>\n",
       "      <td>30-6</td>\n",
       "      <td>11110</td>\n",
       "      <td>6</td>\n",
       "    </tr>\n",
       "    <tr>\n",
       "      <th>3</th>\n",
       "      <td>23,198</td>\n",
       "      <td>1998</td>\n",
       "      <td>2006</td>\n",
       "      <td>익선동</td>\n",
       "      <td>운현신화타워</td>\n",
       "      <td>1</td>\n",
       "      <td>11~20</td>\n",
       "      <td>84.26</td>\n",
       "      <td>30-6</td>\n",
       "      <td>11110</td>\n",
       "      <td>14</td>\n",
       "    </tr>\n",
       "    <tr>\n",
       "      <th>4</th>\n",
       "      <td>21,535</td>\n",
       "      <td>1998</td>\n",
       "      <td>2006</td>\n",
       "      <td>익선동</td>\n",
       "      <td>운현신화타워</td>\n",
       "      <td>1</td>\n",
       "      <td>11~20</td>\n",
       "      <td>78.23</td>\n",
       "      <td>30-6</td>\n",
       "      <td>11110</td>\n",
       "      <td>15</td>\n",
       "    </tr>\n",
       "  </tbody>\n",
       "</table>\n",
       "</div>"
      ],
      "text/plain": [
       "  deal_price  build_y deal_y loc_name apt_name deal_m deal_d sup_area ji_bun  \\\n",
       "0     29,500     1983   2006      당주동       세종      1  11~20     93.4    100   \n",
       "1     15,741     1998   2006      익선동   운현신화타워      1   1~10    57.18   30-6   \n",
       "2     23,198     1998   2006      익선동   운현신화타워      1   1~10    84.26   30-6   \n",
       "3     23,198     1998   2006      익선동   운현신화타워      1  11~20    84.26   30-6   \n",
       "4     21,535     1998   2006      익선동   운현신화타워      1  11~20    78.23   30-6   \n",
       "\n",
       "  loc_code curr_floor  \n",
       "0    11110          6  \n",
       "1    11110         12  \n",
       "2    11110          6  \n",
       "3    11110         14  \n",
       "4    11110         15  "
      ]
     },
     "execution_count": 27,
     "metadata": {},
     "output_type": "execute_result"
    }
   ],
   "source": [
    "deal_df.head()"
   ]
  },
  {
   "cell_type": "code",
   "execution_count": 54,
   "metadata": {
    "scrolled": true
   },
   "outputs": [
    {
     "name": "stdout",
     "output_type": "stream",
     "text": [
      "<class 'pandas.core.frame.DataFrame'>\n",
      "Int64Index: 1012164 entries, 0 to 237\n",
      "Data columns (total 11 columns):\n",
      "deal_price    1012164 non-null int64\n",
      "build_y       1012164 non-null int64\n",
      "deal_y        1012164 non-null int64\n",
      "loc_name      1012164 non-null object\n",
      "apt_name      1012164 non-null object\n",
      "deal_m        1012164 non-null int64\n",
      "deal_d        1012164 non-null object\n",
      "sup_area      1012164 non-null float64\n",
      "ji_bun        1012164 non-null object\n",
      "loc_code      1012164 non-null int64\n",
      "curr_floor    1012164 non-null int64\n",
      "dtypes: float64(1), int64(6), object(4)\n",
      "memory usage: 132.7+ MB\n"
     ]
    }
   ],
   "source": [
    "deal_df.info()"
   ]
  },
  {
   "cell_type": "code",
   "execution_count": 14,
   "metadata": {},
   "outputs": [
    {
     "name": "stdout",
     "output_type": "stream",
     "text": [
      "<class 'pandas.core.frame.DataFrame'>\n",
      "Int64Index: 467 entries, 0 to 466\n",
      "Data columns (total 6 columns):\n",
      "si_code      467 non-null int64\n",
      "gu_code      467 non-null int64\n",
      "dong_code    467 non-null int64\n",
      "si_name      467 non-null object\n",
      "gu_name      467 non-null object\n",
      "dong_name    467 non-null object\n",
      "dtypes: int64(3), object(3)\n",
      "memory usage: 25.5+ KB\n"
     ]
    }
   ],
   "source": [
    "loc_df.info()"
   ]
  },
  {
   "cell_type": "markdown",
   "metadata": {},
   "source": [
    "## loc_df column name kor -> eng"
   ]
  },
  {
   "cell_type": "code",
   "execution_count": 21,
   "metadata": {},
   "outputs": [],
   "source": [
    "col_names = ['deal_price', 'build_y', 'deal_y', 'loc_name', 'apt_name', \n",
    "             'deal_m', 'deal_d','sup_area', 'ji_bun', 'loc_code','curr_floor']\n",
    "deal_df.columns = col_names"
   ]
  },
  {
   "cell_type": "markdown",
   "metadata": {},
   "source": [
    "## data type change\n",
    "\n",
    "#### 1. build_year str -> int\n",
    "#### 2. deal_year str -> int\n",
    "#### 3. deal_month str -> int\n",
    "#### 4. current_floor str -> int\n",
    "#### 5. deal_price str -> int"
   ]
  },
  {
   "cell_type": "markdown",
   "metadata": {},
   "source": [
    "### 1, 2, 3, 4 str -> int"
   ]
  },
  {
   "cell_type": "code",
   "execution_count": 53,
   "metadata": {},
   "outputs": [],
   "source": [
    "deal_df['build_y'] = deal_df['build_y'].astype(int)\n",
    "deal_df['deal_y'] = deal_df['deal_y'].astype(int)\n",
    "deal_df['deal_m'] = deal_df['deal_m'].astype(int)\n",
    "deal_df['curr_floor'] = deal_df['curr_floor'].astype(int)\n",
    "deal_df['loc_code'] = deal_df['loc_code'].astype(int)"
   ]
  },
  {
   "cell_type": "markdown",
   "metadata": {},
   "source": [
    "### price remove ',' & str -> int, sup_area str -> float"
   ]
  },
  {
   "cell_type": "code",
   "execution_count": 44,
   "metadata": {},
   "outputs": [],
   "source": [
    "deal_df['deal_price'] = deal_df['deal_price'].str.replace(',', '').astype(int)"
   ]
  },
  {
   "cell_type": "code",
   "execution_count": 51,
   "metadata": {},
   "outputs": [],
   "source": [
    "deal_df['sup_area'] = deal_df['sup_area'].astype(float)"
   ]
  },
  {
   "cell_type": "code",
   "execution_count": 56,
   "metadata": {},
   "outputs": [
    {
     "data": {
      "text/html": [
       "<div>\n",
       "<style scoped>\n",
       "    .dataframe tbody tr th:only-of-type {\n",
       "        vertical-align: middle;\n",
       "    }\n",
       "\n",
       "    .dataframe tbody tr th {\n",
       "        vertical-align: top;\n",
       "    }\n",
       "\n",
       "    .dataframe thead th {\n",
       "        text-align: right;\n",
       "    }\n",
       "</style>\n",
       "<table border=\"1\" class=\"dataframe\">\n",
       "  <thead>\n",
       "    <tr style=\"text-align: right;\">\n",
       "      <th></th>\n",
       "      <th>deal_price</th>\n",
       "      <th>build_y</th>\n",
       "      <th>deal_y</th>\n",
       "      <th>loc_name</th>\n",
       "      <th>apt_name</th>\n",
       "      <th>deal_m</th>\n",
       "      <th>deal_d</th>\n",
       "      <th>sup_area</th>\n",
       "      <th>ji_bun</th>\n",
       "      <th>loc_code</th>\n",
       "      <th>curr_floor</th>\n",
       "    </tr>\n",
       "  </thead>\n",
       "  <tbody>\n",
       "    <tr>\n",
       "      <th>0</th>\n",
       "      <td>29500</td>\n",
       "      <td>1983</td>\n",
       "      <td>2006</td>\n",
       "      <td>당주동</td>\n",
       "      <td>세종</td>\n",
       "      <td>1</td>\n",
       "      <td>11~20</td>\n",
       "      <td>93.40</td>\n",
       "      <td>100</td>\n",
       "      <td>11110</td>\n",
       "      <td>6</td>\n",
       "    </tr>\n",
       "    <tr>\n",
       "      <th>1</th>\n",
       "      <td>15741</td>\n",
       "      <td>1998</td>\n",
       "      <td>2006</td>\n",
       "      <td>익선동</td>\n",
       "      <td>운현신화타워</td>\n",
       "      <td>1</td>\n",
       "      <td>1~10</td>\n",
       "      <td>57.18</td>\n",
       "      <td>30-6</td>\n",
       "      <td>11110</td>\n",
       "      <td>12</td>\n",
       "    </tr>\n",
       "    <tr>\n",
       "      <th>2</th>\n",
       "      <td>23198</td>\n",
       "      <td>1998</td>\n",
       "      <td>2006</td>\n",
       "      <td>익선동</td>\n",
       "      <td>운현신화타워</td>\n",
       "      <td>1</td>\n",
       "      <td>1~10</td>\n",
       "      <td>84.26</td>\n",
       "      <td>30-6</td>\n",
       "      <td>11110</td>\n",
       "      <td>6</td>\n",
       "    </tr>\n",
       "    <tr>\n",
       "      <th>3</th>\n",
       "      <td>23198</td>\n",
       "      <td>1998</td>\n",
       "      <td>2006</td>\n",
       "      <td>익선동</td>\n",
       "      <td>운현신화타워</td>\n",
       "      <td>1</td>\n",
       "      <td>11~20</td>\n",
       "      <td>84.26</td>\n",
       "      <td>30-6</td>\n",
       "      <td>11110</td>\n",
       "      <td>14</td>\n",
       "    </tr>\n",
       "    <tr>\n",
       "      <th>4</th>\n",
       "      <td>21535</td>\n",
       "      <td>1998</td>\n",
       "      <td>2006</td>\n",
       "      <td>익선동</td>\n",
       "      <td>운현신화타워</td>\n",
       "      <td>1</td>\n",
       "      <td>11~20</td>\n",
       "      <td>78.23</td>\n",
       "      <td>30-6</td>\n",
       "      <td>11110</td>\n",
       "      <td>15</td>\n",
       "    </tr>\n",
       "  </tbody>\n",
       "</table>\n",
       "</div>"
      ],
      "text/plain": [
       "   deal_price  build_y  deal_y loc_name apt_name  deal_m deal_d  sup_area  \\\n",
       "0       29500     1983    2006      당주동       세종       1  11~20     93.40   \n",
       "1       15741     1998    2006      익선동   운현신화타워       1   1~10     57.18   \n",
       "2       23198     1998    2006      익선동   운현신화타워       1   1~10     84.26   \n",
       "3       23198     1998    2006      익선동   운현신화타워       1  11~20     84.26   \n",
       "4       21535     1998    2006      익선동   운현신화타워       1  11~20     78.23   \n",
       "\n",
       "  ji_bun  loc_code  curr_floor  \n",
       "0    100     11110           6  \n",
       "1   30-6     11110          12  \n",
       "2   30-6     11110           6  \n",
       "3   30-6     11110          14  \n",
       "4   30-6     11110          15  "
      ]
     },
     "execution_count": 56,
     "metadata": {},
     "output_type": "execute_result"
    }
   ],
   "source": [
    "deal_df.head()"
   ]
  },
  {
   "cell_type": "markdown",
   "metadata": {},
   "source": [
    "### KB APT INFO LOAD"
   ]
  },
  {
   "cell_type": "code",
   "execution_count": 74,
   "metadata": {},
   "outputs": [],
   "source": [
    "def get_apt_info():\n",
    "    info_path = \"/Users/tax_k/Projects/AI-DL/KB/Dataset/Information\"\n",
    "    result = []\n",
    "    for name in sorted(os.listdir(info_path)):\n",
    "        path = os.path.join(info_path, name)\n",
    "        if os.path.isdir(path):\n",
    "            for fname in sorted(os.listdir(path)):\n",
    "                fpath = os.path.join(path, fname)\n",
    "                if os.path.isdir(fpath):\n",
    "                    for aptname in (os.listdir(fpath)):\n",
    "                        only_apt_name = aptname[:-4]\n",
    "                        if not aptname.startswith('.') and os.path.isfile(os.path.join(fpath, aptname)):\n",
    "                            apt_name_path = os.path.join(fpath, aptname)\n",
    "\n",
    "                            with open(apt_name_path, 'rb') as f:\n",
    "                                data = pickle.load(f)\n",
    "\n",
    "                                data[\"gu\"] = name\n",
    "                                data[\"dong\"] = fname\n",
    "                                data[\"name\"] = only_apt_name\n",
    "                                if data is None:\n",
    "                                    print('hack')\n",
    "                                else:\n",
    "                                    result.append(data)\n",
    "    return result"
   ]
  },
  {
   "cell_type": "code",
   "execution_count": 75,
   "metadata": {},
   "outputs": [],
   "source": [
    "info_data = get_apt_info()"
   ]
  },
  {
   "cell_type": "code",
   "execution_count": 77,
   "metadata": {},
   "outputs": [
    {
     "data": {
      "text/plain": [
       "7977"
      ]
     },
     "execution_count": 77,
     "metadata": {},
     "output_type": "execute_result"
    }
   ],
   "source": [
    "len(info_data)"
   ]
  },
  {
   "cell_type": "code",
   "execution_count": null,
   "metadata": {},
   "outputs": [],
   "source": []
  }
 ],
 "metadata": {
  "kernelspec": {
   "display_name": "Python [conda env:DL]",
   "language": "python",
   "name": "conda-env-DL-py"
  },
  "language_info": {
   "codemirror_mode": {
    "name": "ipython",
    "version": 3
   },
   "file_extension": ".py",
   "mimetype": "text/x-python",
   "name": "python",
   "nbconvert_exporter": "python",
   "pygments_lexer": "ipython3",
   "version": "3.6.7"
  }
 },
 "nbformat": 4,
 "nbformat_minor": 2
}
